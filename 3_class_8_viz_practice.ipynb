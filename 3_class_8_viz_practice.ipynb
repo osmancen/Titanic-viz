{
 "cells": [
  {
   "cell_type": "markdown",
   "id": "004e7936-aae2-4d30-a709-8b467548af33",
   "metadata": {
    "tags": []
   },
   "source": [
    "## Visualization practice"
   ]
  },
  {
   "cell_type": "markdown",
   "id": "2ecd14a0-1111-4b41-a347-58d0706c2b85",
   "metadata": {},
   "source": [
    "Using the `pandas` methods or the package `matplotlib`, take some of your Titanic findings (3 or 4) and turn them into plots.\n",
    "\n",
    "Again, save your notebook as pdf or html and share it on Slack."
   ]
  },
  {
   "cell_type": "code",
   "execution_count": 1,
   "id": "10900eae-f454-4226-95ae-6a3c3fcd66ff",
   "metadata": {
    "jupyter": {
     "source_hidden": true
    },
    "tags": []
   },
   "outputs": [],
   "source": [
    "# import packages:\n",
    "import pandas as pd\n",
    "import matplotlib.pyplot as plt"
   ]
  },
  {
   "cell_type": "code",
   "execution_count": 2,
   "id": "f1f2bd6e-a271-4e04-b01d-543aec1050ed",
   "metadata": {},
   "outputs": [],
   "source": [
    "# load data:\n",
    "titanic_df = pd.read_csv(\"./data/titanic.csv\")"
   ]
  },
  {
   "cell_type": "code",
   "execution_count": 3,
   "id": "ee64a05c-959d-4b51-b700-74d7538a143c",
   "metadata": {},
   "outputs": [
    {
     "name": "stdout",
     "output_type": "stream",
     "text": [
      "<class 'pandas.core.frame.DataFrame'>\n",
      "RangeIndex: 891 entries, 0 to 890\n",
      "Data columns (total 12 columns):\n",
      " #   Column       Non-Null Count  Dtype  \n",
      "---  ------       --------------  -----  \n",
      " 0   PassengerId  891 non-null    int64  \n",
      " 1   Survived     891 non-null    int64  \n",
      " 2   Pclass       891 non-null    int64  \n",
      " 3   Name         891 non-null    object \n",
      " 4   Sex          891 non-null    object \n",
      " 5   Age          714 non-null    float64\n",
      " 6   SibSp        891 non-null    int64  \n",
      " 7   Parch        891 non-null    int64  \n",
      " 8   Ticket       891 non-null    object \n",
      " 9   Fare         891 non-null    float64\n",
      " 10  Cabin        204 non-null    object \n",
      " 11  Embarked     889 non-null    object \n",
      "dtypes: float64(2), int64(5), object(5)\n",
      "memory usage: 83.7+ KB\n"
     ]
    }
   ],
   "source": [
    "titanic_df.info()"
   ]
  },
  {
   "cell_type": "markdown",
   "id": "b1da73bc-295a-4425-842f-4d29b965297d",
   "metadata": {
    "tags": []
   },
   "source": [
    "#### to make a graph: \n",
    "plt.plot(titanic_df.Age, titanic_df.Fare) # line plot\n",
    "# customize:\n",
    "plt.xlabel(\"Age (years)\")\n",
    "plt.ylabel(\"Fare (pounds)\")\n",
    "plt.title(\"Titanic data\")"
   ]
  },
  {
   "cell_type": "markdown",
   "id": "602e370b-96db-44e3-afc5-70f85091fe65",
   "metadata": {},
   "source": [
    "#### Gender distribution of the passengers:\n",
    "Male: 577\n",
    "Female: 314"
   ]
  },
  {
   "cell_type": "code",
   "execution_count": 4,
   "id": "88b660f7-b1b9-4022-9ae8-98792f1f638a",
   "metadata": {},
   "outputs": [
    {
     "data": {
      "text/plain": [
       "male      577\n",
       "female    314\n",
       "Name: Sex, dtype: int64"
      ]
     },
     "execution_count": 4,
     "metadata": {},
     "output_type": "execute_result"
    }
   ],
   "source": [
    "titanic_df.Sex.value_counts()"
   ]
  },
  {
   "cell_type": "code",
   "execution_count": 5,
   "id": "bac81605-0eba-4810-96e1-35be8115d1c6",
   "metadata": {},
   "outputs": [
    {
     "data": {
      "text/plain": [
       "<AxesSubplot:>"
      ]
     },
     "execution_count": 5,
     "metadata": {},
     "output_type": "execute_result"
    },
    {
     "data": {
      "image/png": "[encoded data removed]",
      "text/plain": [
       "<Figure size 432x288 with 1 Axes>"
      ]
     },
     "metadata": {
      "needs_background": "light"
     },
     "output_type": "display_data"
    }
   ],
   "source": [
    "titanic_df.Sex.value_counts().plot.bar()"
   ]
  },
  {
   "cell_type": "markdown",
   "id": "d6a96024-856a-4eed-b739-3dda31d9c0dc",
   "metadata": {},
   "source": [
    "#### Survival rate was higher in females than in males\n",
    "Female survival rate: 74.2%\n",
    "Male survival rate: 18.9%\n",
    "Why is not it add up to ~100%?"
   ]
  },
  {
   "cell_type": "code",
   "execution_count": 6,
   "id": "113958bf-5f09-47d8-b619-093d02b64018",
   "metadata": {},
   "outputs": [
    {
     "data": {
      "text/plain": [
       "Sex\n",
       "female    0.742038\n",
       "male      0.188908\n",
       "Name: Survived, dtype: float64"
      ]
     },
     "execution_count": 6,
     "metadata": {},
     "output_type": "execute_result"
    }
   ],
   "source": [
    "titanic_df.groupby('Sex').Survived.mean()"
   ]
  },
  {
   "cell_type": "code",
   "execution_count": 7,
   "id": "911582b7-9c8e-45f1-9765-4fbcd0cbeb18",
   "metadata": {},
   "outputs": [
    {
     "data": {
      "text/plain": [
       "<AxesSubplot:xlabel='Sex'>"
      ]
     },
     "execution_count": 7,
     "metadata": {},
     "output_type": "execute_result"
    },
    {
     "data": {
      "image/png": "[encoded data removed]",
      "text/plain": [
       "<Figure size 432x288 with 1 Axes>"
      ]
     },
     "metadata": {
      "needs_background": "light"
     },
     "output_type": "display_data"
    }
   ],
   "source": [
    "titanic_df.groupby('Sex').Survived.mean().plot.bar()"
   ]
  },
  {
   "cell_type": "markdown",
   "id": "959c9085-ceac-4ea6-ba23-8b464535b3cc",
   "metadata": {},
   "source": [
    "#### Survival rate by class"
   ]
  },
  {
   "cell_type": "code",
   "execution_count": 8,
   "id": "cf2c637c-c7bd-4655-b6e3-9c1e7c329913",
   "metadata": {},
   "outputs": [
    {
     "data": {
      "text/plain": [
       "Pclass\n",
       "1    0.629630\n",
       "2    0.472826\n",
       "3    0.242363\n",
       "Name: Survived, dtype: float64"
      ]
     },
     "execution_count": 8,
     "metadata": {},
     "output_type": "execute_result"
    }
   ],
   "source": [
    "titanic_df.groupby('Pclass').Survived.mean()"
   ]
  },
  {
   "cell_type": "code",
   "execution_count": 9,
   "id": "e90516ff-3235-4743-83eb-eff70f1ab908",
   "metadata": {},
   "outputs": [
    {
     "data": {
      "text/plain": [
       "Text(0.5, 1.0, 'Titanic data')"
      ]
     },
     "execution_count": 9,
     "metadata": {},
     "output_type": "execute_result"
    },
    {
     "data": {
      "image/png": "[encoded data removed]",
      "text/plain": [
       "<Figure size 432x288 with 1 Axes>"
      ]
     },
     "metadata": {
      "needs_background": "light"
     },
     "output_type": "display_data"
    }
   ],
   "source": [
    "titanic_df.groupby('Pclass').Survived.mean().plot.bar()\n",
    "plt.xlabel(['Class'])\n",
    "plt.ylabel('Survival rate')\n",
    "plt.title('Titanic data')"
   ]
  },
  {
   "cell_type": "code",
   "execution_count": 10,
   "id": "8dccd29b-d542-49c0-84ef-441ab15ef0b4",
   "metadata": {},
   "outputs": [],
   "source": [
    "#### Survival rate by Sex and Class:"
   ]
  },
  {
   "cell_type": "code",
   "execution_count": 11,
   "id": "49508aa9-2342-4eeb-bbc5-21f26a5634a2",
   "metadata": {},
   "outputs": [
    {
     "data": {
      "text/plain": [
       "Sex     Pclass\n",
       "female  1         0.968085\n",
       "        2         0.921053\n",
       "        3         0.500000\n",
       "male    1         0.368852\n",
       "        2         0.157407\n",
       "        3         0.135447\n",
       "Name: Survived, dtype: float64"
      ]
     },
     "execution_count": 11,
     "metadata": {},
     "output_type": "execute_result"
    }
   ],
   "source": [
    "titanic_df.groupby(['Sex', 'Pclass']).mean().agg('Survived')"
   ]
  },
  {
   "cell_type": "code",
   "execution_count": 12,
   "id": "b31db38a-4c0e-47d0-b24d-84a97cdbcaa4",
   "metadata": {},
   "outputs": [
    {
     "data": {
      "text/plain": [
       "Text(0.5, 1.0, 'Titanic data')"
      ]
     },
     "execution_count": 12,
     "metadata": {},
     "output_type": "execute_result"
    },
    {
     "data": {
      "image/png": "[encoded data removed]",
      "text/plain": [
       "<Figure size 432x288 with 1 Axes>"
      ]
     },
     "metadata": {
      "needs_background": "light"
     },
     "output_type": "display_data"
    }
   ],
   "source": [
    "titanic_df.groupby(['Sex', 'Pclass']).mean().agg('Survived').plot.bar()\n",
    "plt.xlabel(['Sex', 'Pclass'])\n",
    "plt.ylabel('percent survived)')\n",
    "plt.title('Titanic data')"
   ]
  },
  {
   "cell_type": "markdown",
   "id": "68354ecc-0fbe-48bf-8257-fd8bb5a0694d",
   "metadata": {},
   "source": [
    "#### The following box plot graph does not look right. How can it be graphed? "
   ]
  },
  {
   "cell_type": "code",
   "execution_count": 13,
   "id": "c7c56c38-b3d5-4027-b8d1-0b39f39f6c24",
   "metadata": {},
   "outputs": [
    {
     "data": {
      "text/plain": [
       "Text(0.5, 1.0, 'Titanic data')"
      ]
     },
     "execution_count": 13,
     "metadata": {},
     "output_type": "execute_result"
    },
    {
     "data": {
      "image/png": "[encoded data removed]",
      "text/plain": [
       "<Figure size 432x288 with 1 Axes>"
      ]
     },
     "metadata": {
      "needs_background": "light"
     },
     "output_type": "display_data"
    }
   ],
   "source": [
    "titanic_df.groupby(['Sex', 'Pclass']).mean().agg('Survived').plot.box()\n",
    "plt.xlabel(['Sex', 'Pclass'])\n",
    "plt.ylabel('percent survived)')\n",
    "plt.title('Titanic data')\n",
    "# Why does not this work as bar graph? "
   ]
  },
  {
   "cell_type": "code",
   "execution_count": 14,
   "id": "d2fc9e87-d1e1-47d2-8ec3-f91c220b9418",
   "metadata": {},
   "outputs": [
    {
     "data": {
      "text/plain": [
       "Sex     Survived\n",
       "female  0           23.024385\n",
       "        1           51.938573\n",
       "male    0           21.960993\n",
       "        1           40.821484\n",
       "Name: Fare, dtype: float64"
      ]
     },
     "execution_count": 14,
     "metadata": {},
     "output_type": "execute_result"
    }
   ],
   "source": [
    "titanic_df.groupby(['Sex', 'Survived']).mean().agg('Fare')"
   ]
  },
  {
   "cell_type": "markdown",
   "id": "9005b82a-2ea2-4f48-bea0-8d2da2c968e8",
   "metadata": {},
   "source": [
    "#### Association between Class and Fare"
   ]
  },
  {
   "cell_type": "code",
   "execution_count": 15,
   "id": "db92816f-5ff5-456a-a2ab-626eefaa51ef",
   "metadata": {},
   "outputs": [
    {
     "data": {
      "text/plain": [
       "Text(0.5, 1.0, 'Titanic data')"
      ]
     },
     "execution_count": 15,
     "metadata": {},
     "output_type": "execute_result"
    },
    {
     "data": {
      "image/png": "[encoded data removed]",
      "text/plain": [
       "<Figure size 432x288 with 1 Axes>"
      ]
     },
     "metadata": {
      "needs_background": "light"
     },
     "output_type": "display_data"
    }
   ],
   "source": [
    "titanic_df.groupby(['Pclass', 'Survived']).mean().agg('Fare').plot.bar()\n",
    "plt.xlabel(['Class', 'Survived'])\n",
    "plt.ylabel('Fare)')\n",
    "plt.title('Titanic data')"
   ]
  },
  {
   "cell_type": "markdown",
   "id": "73732977-1122-488d-b1bb-62d13206c6e3",
   "metadata": {
    "tags": []
   },
   "source": [
    "#### Association Sex, Survival and Fare"
   ]
  },
  {
   "cell_type": "code",
   "execution_count": 16,
   "id": "49da7b58-68ef-449d-9d9a-44e1ae8b6ac6",
   "metadata": {},
   "outputs": [
    {
     "data": {
      "text/plain": [
       "Text(0.5, 1.0, 'Titanic data')"
      ]
     },
     "execution_count": 16,
     "metadata": {},
     "output_type": "execute_result"
    },
    {
     "data": {
      "image/png": "[encoded data removed]",
      "text/plain": [
       "<Figure size 432x288 with 1 Axes>"
      ]
     },
     "metadata": {
      "needs_background": "light"
     },
     "output_type": "display_data"
    }
   ],
   "source": [
    "titanic_df.groupby(['Sex', 'Survived']).mean().agg('Fare').plot.bar()\n",
    "plt.xlabel(['Sex', 'Survived'])\n",
    "plt.ylabel('Fare)')\n",
    "plt.title('Titanic data')"
   ]
  },
  {
   "cell_type": "code",
   "execution_count": null,
   "id": "62f9af64-3fe8-4f75-91c2-94cac4b69fd1",
   "metadata": {},
   "outputs": [],
   "source": []
  }
 ],
 "metadata": {
  "kernelspec": {
   "display_name": "Python 3 (ipykernel)",
   "language": "python",
   "name": "python3"
  },
  "language_info": {
   "codemirror_mode": {
    "name": "ipython",
    "version": 3
   },
   "file_extension": ".py",
   "mimetype": "text/x-python",
   "name": "python",
   "nbconvert_exporter": "python",
   "pygments_lexer": "ipython3",
   "version": "3.9.7"
  }
 },
 "nbformat": 4,
 "nbformat_minor": 5
}
